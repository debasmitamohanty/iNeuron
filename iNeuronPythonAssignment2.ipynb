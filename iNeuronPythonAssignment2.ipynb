{
 "cells": [
  {
   "cell_type": "code",
   "execution_count": null,
   "metadata": {},
   "outputs": [],
   "source": [
    "###Ineuron Python Assignment 2"
   ]
  },
  {
   "cell_type": "code",
   "execution_count": null,
   "metadata": {},
   "outputs": [],
   "source": [
    "##Q1. What are the 2 values of the Boolean data type?\n",
    "#How do you write them ?\n",
    "\n",
    "##Ans:A variable of the primitive data type boolean can have\n",
    "#two values: true and false (Boolean literals).Boolean variables \n",
    "##are used to indicate whether a condition is true or not. \n"
   ]
  },
  {
   "cell_type": "code",
   "execution_count": null,
   "metadata": {},
   "outputs": [],
   "source": [
    "##Q2.What are the three different types of Boolean operators ?\n",
    "###Ans:The three basic boolean operators are :AND, OR and NOT"
   ]
  },
  {
   "cell_type": "code",
   "execution_count": null,
   "metadata": {},
   "outputs": [],
   "source": [
    "###Q3:Make a list of each Boolean operator's truth tables(i.e,\n",
    "#every possible combination of Boolean values for the\n",
    "#operator and what it evaluates.)\n",
    "##Ans:For a 2-input Logic circuit with input variables labelled\n",
    "##as A and B.There are \"four\" possible input combinations \n",
    "\n",
    "## Input Combination 1 \"OFF\" - \"OFF\" or (0,0)\n",
    "##Input Combination 2 \"OFF\"- \"ON\" or (0,1)\n",
    "##Input Combination 3 \"ON\" - \"OFF\" or (1,0)\n",
    "##Input Combination 4 \"ON\" - \"ON\" or (1,1)\n",
    "\n",
    "#2-input AND Gate\n",
    "\n",
    "##For a 2-input AND gate, the output Q is true if BOTH \n",
    "#input A “AND” input B are both true, giving the \n",
    "##Boolean Expression of: ( Q = A and B ).\n",
    "\n",
    "##A&B gives Q              A            B           Q\n",
    "#Boolean Expression        0            0           0\n",
    "                           0            1           0\n",
    "                           1            0           0\n",
    "                           1            1           1\n",
    "            \n",
    "            \n",
    "##2-input OR (Inclusive OR) Gate\n",
    "#For a 2-input OR gate, the output Q is true if EITHER \n",
    "#input A “OR” input B is true, giving the \n",
    "#Boolean Expression of: ( Q = A or B ).\n",
    "  \n",
    "    \n",
    "##A&B gives Q              A            B           Q\n",
    "#Boolean Expression        0            0           0\n",
    "#2-input OR Gate           0            1           1\n",
    "                           1            0           1\n",
    "                           1            1           1\n",
    "        #               Read as A or B gives Q\n",
    "        \n",
    "#NOT Gate (Inverter)\n",
    "#For a single input NOT gate, the output Q is ONLY true\n",
    "#when the input is “NOT” true, the output is the inverse\n",
    "#or complement of the input giving the Boolean Expression \n",
    "#of: ( Q = NOT A ). \n",
    " \n",
    "#Boolean Expression Q = Not A      A        Q  \n",
    "                                   0        1\n",
    "                                   1        0                     \n",
    "#                               Read as inversion of A\n",
    "#                                gives Q\n",
    "            \n",
    "#The NAND and the NOR Gates are a combination of the AND \n",
    "#and OR Gates respectively with that of a NOT Gate \n",
    "#(inverter).   \n",
    "\n",
    "#2-input NAND (Not AND) Gate\n",
    "#For a 2-input NAND gate, the output Q is NOT true if BOTH\n",
    "#input A and input B are true,giving the\n",
    "#Boolean Expression of: ( Q = not(A AND B) ).\n",
    "\n",
    "            \n",
    "               #           A            B           Q\n",
    "#Boolean Expression        0            0           0\n",
    "#2-input NAND Gate         0            1           1\n",
    "                           1            0           1\n",
    "##   Q= not(A&B )          1            1           1\n",
    " #                       Read as A and B gives Not-Q\n",
    "    \n",
    "    \n",
    " \n",
    "\n",
    "# 2-input NOR (Not OR) Gate\n",
    "#For a 2-input NOR gate, the output Q is true if BOTH input \n",
    "#A and input B are NOT true giving the Boolean Expression \n",
    "#of: ( Q = not(A OR B) ).\n",
    "    #                      A          B          Q\n",
    "#2-input NOR Gate\n",
    "                           0          0           1\n",
    "                           0          1           0\n",
    "                           1          0           0\n",
    "                           1          1           0\n",
    "                #         Read as A Or B gives Not-Q\n",
    "                \n",
    " \n",
    "#2-input EX-OR (Exclusive OR) Gate\n",
    "#For a 2-input Ex-OR gate, the output Q is true if EITHER \n",
    "#input A or if input B is true, but NOT both giving\n",
    "#the Boolean Expression of: ( Q = (A and NOT B) or\n",
    "#(NOT A and B) ).\n",
    "                \n",
    "##A & B = 1               A              B        Q\n",
    "#2-input Ex -OR Gate      0              0        0\n",
    "                          0              1.       1\n",
    "                          1              0        1\n",
    "                          1              1        0\n",
    "            \n",
    "##Boolean Expression Q=A+B\n",
    "\n",
    "AND\n",
    "\n",
    "OR\n",
    "\n",
    "NOT\n",
    "\n",
    "()\n",
    "\n",
    "“”\n",
    "            "
   ]
  },
  {
   "cell_type": "code",
   "execution_count": null,
   "metadata": {},
   "outputs": [],
   "source": [
    "##Q-4 What are the values of the following expressions?\n",
    "#(5>4) and (3==5) #Ans False\n",
    "#not (5>4) #Ans False\n",
    "#(5>4)or(3==5)#Ans True\n",
    "#(True and True) and (True==False) Ans False\n",
    "#(not False)or(not True)# Ans True"
   ]
  },
  {
   "cell_type": "code",
   "execution_count": 16,
   "metadata": {},
   "outputs": [
    {
     "name": "stdout",
     "output_type": "stream",
     "text": [
      "True\n"
     ]
    }
   ],
   "source": [
    "#if (5 > 4) or (3 == 5):\n",
    "# not (5 > 4):\n",
    "#if(5 > 4) or (3 == 5):\n",
    "if \n",
    "    print(\"True\")\n",
    "else:\n",
    "    print(\"False\")"
   ]
  },
  {
   "cell_type": "code",
   "execution_count": null,
   "metadata": {},
   "outputs": [],
   "source": [
    "#Q5 What are six comparison operators ?\n",
    "#These are- python less than, python greater than, \n",
    "#Less Than or Equal To, Equal to or greater than,\n",
    "#Python Equal To and Python Not Equal Operator."
   ]
  },
  {
   "cell_type": "markdown",
   "metadata": {},
   "source": [
    "#"
   ]
  },
  {
   "cell_type": "code",
   "execution_count": 21,
   "metadata": {},
   "outputs": [
    {
     "data": {
      "text/plain": [
       "True"
      ]
     },
     "execution_count": 21,
     "metadata": {},
     "output_type": "execute_result"
    }
   ],
   "source": [
    "#Q6 How do you tell the difference between the equal to \n",
    "#and assignment operators?Describe a condition and when you \n",
    "#would use one.\n",
    "#Ans The \"=\" is an assignment operator is used \n",
    "#to assign the value on the right to the variable on\n",
    "#the left.\n",
    "\n",
    "#  = is an assisgnment operator\n",
    "# == is an equality operator\n",
    "\n",
    "#For example\n",
    "x = 10\n",
    "y = 20\n",
    "z = 20\n",
    "\n",
    "(x==y) is False #because we assigned different values to x and y.\n",
    "\n",
    "(y==z) is True #because we assign equal values to y and z.\n",
    "\n",
    "\n"
   ]
  },
  {
   "cell_type": "code",
   "execution_count": 26,
   "metadata": {},
   "outputs": [
    {
     "name": "stdout",
     "output_type": "stream",
     "text": [
      "ham\n",
      "spam\n",
      "spam\n"
     ]
    }
   ],
   "source": [
    "\n",
    "#7. Identify the three blocks in this code:\n",
    "spam = 0\n",
    "if spam == 10:\n",
    "     print('eggs') # indent increased , block A\n",
    "if spam > 5:       #still block A\n",
    "    print('bacon') #still block A, indent increased,\n",
    "else:              #still block A , indent decreased\n",
    "    print('ham')   #still block A, indent increased\n",
    "print('spam')    #still block A, indent decreased,\n",
    "print('spam')     #indent decreased, block"
   ]
  },
  {
   "cell_type": "code",
   "execution_count": 30,
   "metadata": {},
   "outputs": [
    {
     "name": "stdout",
     "output_type": "stream",
     "text": [
      "Greetings\n"
     ]
    }
   ],
   "source": [
    "#8. Write code that prints Hello if 1 is stored in spam, \n",
    "#prints Howdy if 2 is stored in spam, and prints\n",
    "#Greetings! if anything else is stored in spam.\n",
    "#Ans\n",
    "\n",
    "spam = 0\n",
    "if spam == 1:\n",
    "     print('Hello') \n",
    "if spam == 2:       \n",
    "    print('Howdy') \n",
    "else:              \n",
    "    print('Greetings')   \n",
    "    "
   ]
  },
  {
   "cell_type": "code",
   "execution_count": null,
   "metadata": {},
   "outputs": [],
   "source": [
    "#9.If your programme is stuck in an endless loop,\n",
    "#what keys you’ll press?\n",
    "\n",
    "##We can stop an infinite loop with CTRL + C . \n",
    "#We can generate an infinite loop intentionally with while \n",
    "#True . The break statement\n",
    "#can be used to stop a while loop immediately."
   ]
  },
  {
   "cell_type": "code",
   "execution_count": null,
   "metadata": {},
   "outputs": [],
   "source": [
    "#10. How can you tell the difference between break and \n",
    "#continue?\n",
    "#Ans- Both “break” and “continue” are the ‘jump’ statements,\n",
    "#that transfer control of the program to another part of \n",
    "#the program. The main difference between break and \n",
    "#continue is that break is used for immediate termination \n",
    "#of loop. On the other hand, ‘continue’ terminate the \n",
    "#current iteration and resumes the control to the next \n",
    "#iteration of the loop."
   ]
  },
  {
   "cell_type": "code",
   "execution_count": 34,
   "metadata": {},
   "outputs": [
    {
     "name": "stdout",
     "output_type": "stream",
     "text": [
      "0\n",
      "1\n",
      "2\n",
      "3\n",
      "4\n",
      "5\n",
      "6\n",
      "7\n",
      "8\n",
      "9\n"
     ]
    }
   ],
   "source": [
    "#11. In a for loop, what is the difference between \n",
    "#range(10), range(0, 10), and range(0, 10, 1)?\n",
    "#Ans range(10) means it generates numbers from 0 to 9\n",
    "#range(0,10) means it generates numbers from 0 to 9\n",
    "#range (0 ,10, 1) means it generates numbers from 0 to 9 \n",
    "#with a difference of step value 1\n",
    "\n",
    "for x in range(0,10,1):\n",
    "    print(x)"
   ]
  },
  {
   "cell_type": "code",
   "execution_count": 35,
   "metadata": {},
   "outputs": [
    {
     "name": "stdout",
     "output_type": "stream",
     "text": [
      "1\n",
      "2\n",
      "3\n",
      "4\n",
      "5\n",
      "6\n",
      "7\n",
      "8\n",
      "9\n",
      "10\n"
     ]
    }
   ],
   "source": [
    "#12. Write a short program that prints the numbers 1 to 10 \n",
    "#using a for loop. Then write an equivalent\n",
    "#program that prints the numbers 1 to 10 using a while loop.\n",
    "\n",
    "i = 1\n",
    "while(i<=10):\n",
    "    print(i)\n",
    "    i += 1"
   ]
  },
  {
   "cell_type": "code",
   "execution_count": 36,
   "metadata": {},
   "outputs": [
    {
     "name": "stdout",
     "output_type": "stream",
     "text": [
      "bacon\n"
     ]
    }
   ],
   "source": [
    "#13. If you had a function named bacon() inside a \n",
    "#module named spam, how would you call it after\n",
    "#importing spam?\n",
    "#Ans \n",
    "\n",
    "def spam():\n",
    "    print(\"bacon\")\n",
    "m = spam()\n",
    "    \n",
    "    "
   ]
  },
  {
   "cell_type": "code",
   "execution_count": null,
   "metadata": {},
   "outputs": [],
   "source": []
  }
 ],
 "metadata": {
  "kernelspec": {
   "display_name": "Python 3",
   "language": "python",
   "name": "python3"
  },
  "language_info": {
   "codemirror_mode": {
    "name": "ipython",
    "version": 3
   },
   "file_extension": ".py",
   "mimetype": "text/x-python",
   "name": "python",
   "nbconvert_exporter": "python",
   "pygments_lexer": "ipython3",
   "version": "3.7.6"
  }
 },
 "nbformat": 4,
 "nbformat_minor": 4
}
