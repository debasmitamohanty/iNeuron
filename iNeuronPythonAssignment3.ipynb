{
 "cells": [
  {
   "cell_type": "code",
   "execution_count": null,
   "metadata": {},
   "outputs": [],
   "source": [
    "###Ineuron Python Basic Assignment 3###"
   ]
  },
  {
   "cell_type": "code",
   "execution_count": null,
   "metadata": {},
   "outputs": [],
   "source": [
    "#Q1. Why are functions advantageous to have in your programs?\n",
    "#Ans- Functions reduce the need for duplicate code. This makes programs\n",
    "#shorter , easier to read and easier to update\n"
   ]
  },
  {
   "cell_type": "code",
   "execution_count": null,
   "metadata": {},
   "outputs": [],
   "source": [
    "#Q2. When does the code in a function run: when it's specified or when it's called?\n",
    "#Ans The code in a function executes when the functionnis called\n",
    "#not when specified."
   ]
  },
  {
   "cell_type": "code",
   "execution_count": null,
   "metadata": {},
   "outputs": [],
   "source": [
    "#Q3. What statement creates a function?\n",
    "#Ans A statement hat executes a function it consist of \n",
    "#the name of the function followed by a list of arguments enclosed\n",
    "#in parenthesis. Using the output from one function call \n",
    "#as input to another. A statement that creates a new function ,\n",
    "#specifying its name , parameters and the statement it executes."
   ]
  },
  {
   "cell_type": "code",
   "execution_count": null,
   "metadata": {},
   "outputs": [],
   "source": [
    "#Q4. What is the difference between a function and a function call?\n",
    "#Ans Using a function to do a particular task any point is called as\n",
    "#function call. so the difference between the function and function call \n",
    "#is , A function is procedure to achieve a particular result while\n",
    "#function call is using this function to achieve that task."
   ]
  },
  {
   "cell_type": "code",
   "execution_count": 19,
   "metadata": {},
   "outputs": [
    {
     "name": "stdout",
     "output_type": "stream",
     "text": [
      "x inside:  global\n",
      "x outside:  global\n"
     ]
    }
   ],
   "source": [
    "#Q5. How many global scopes are there in a Python program?\n",
    "#How many local scopes?\n",
    "#Ans When a variable is defined outside a function are called global variables in python.\n",
    "#There is only one global scope per program execution. \n",
    "#This scope remains in existence until the program terminates and \n",
    "#all its names are forgotten.\n",
    "\n",
    "#Eg\n",
    "\n",
    "x= \"global\"\n",
    "def char():\n",
    "    print(\"x inside: \", x)\n",
    "        \n",
    "char()\n",
    "print(\"x outside: \", x)\n"
   ]
  },
  {
   "cell_type": "code",
   "execution_count": 20,
   "metadata": {},
   "outputs": [
    {
     "name": "stdout",
     "output_type": "stream",
     "text": [
      "7\n"
     ]
    }
   ],
   "source": [
    "##Local variable: Any variable that is created inside the function \n",
    "#is local to it,meaning the result variable is local to the add_number\n",
    "#function. When a function ends this variable is destroyed.  \n",
    "\n",
    "\n",
    "def add_number(n1, n2):\n",
    "    result = n1 + n2\n",
    "    #print(result)\n",
    "    return result\n",
    "\n",
    "output = add_number(2,5)\n",
    "#print(result)\n",
    "print(output)"
   ]
  },
  {
   "cell_type": "code",
   "execution_count": 21,
   "metadata": {},
   "outputs": [
    {
     "ename": "UnboundLocalError",
     "evalue": "local variable 'x' referenced before assignment",
     "output_type": "error",
     "traceback": [
      "\u001b[0;31m---------------------------------------------------------------------------\u001b[0m",
      "\u001b[0;31mUnboundLocalError\u001b[0m                         Traceback (most recent call last)",
      "\u001b[0;32m<ipython-input-21-45b8815e55c3>\u001b[0m in \u001b[0;36m<module>\u001b[0;34m\u001b[0m\n\u001b[1;32m      6\u001b[0m     \u001b[0mprint\u001b[0m\u001b[0;34m(\u001b[0m\u001b[0mx\u001b[0m\u001b[0;34m)\u001b[0m\u001b[0;34m\u001b[0m\u001b[0;34m\u001b[0m\u001b[0m\n\u001b[1;32m      7\u001b[0m \u001b[0;34m\u001b[0m\u001b[0m\n\u001b[0;32m----> 8\u001b[0;31m \u001b[0mchar\u001b[0m\u001b[0;34m(\u001b[0m\u001b[0;34m)\u001b[0m\u001b[0;34m\u001b[0m\u001b[0;34m\u001b[0m\u001b[0m\n\u001b[0m",
      "\u001b[0;32m<ipython-input-21-45b8815e55c3>\u001b[0m in \u001b[0;36mchar\u001b[0;34m()\u001b[0m\n\u001b[1;32m      3\u001b[0m \u001b[0mx\u001b[0m \u001b[0;34m=\u001b[0m \u001b[0;34m\"global\"\u001b[0m\u001b[0;34m\u001b[0m\u001b[0;34m\u001b[0m\u001b[0m\n\u001b[1;32m      4\u001b[0m \u001b[0;32mdef\u001b[0m \u001b[0mchar\u001b[0m\u001b[0;34m(\u001b[0m\u001b[0;34m)\u001b[0m\u001b[0;34m:\u001b[0m\u001b[0;34m\u001b[0m\u001b[0;34m\u001b[0m\u001b[0m\n\u001b[0;32m----> 5\u001b[0;31m     \u001b[0mx\u001b[0m \u001b[0;34m=\u001b[0m \u001b[0mx\u001b[0m \u001b[0;34m*\u001b[0m \u001b[0;36m2\u001b[0m\u001b[0;34m\u001b[0m\u001b[0;34m\u001b[0m\u001b[0m\n\u001b[0m\u001b[1;32m      6\u001b[0m     \u001b[0mprint\u001b[0m\u001b[0;34m(\u001b[0m\u001b[0mx\u001b[0m\u001b[0;34m)\u001b[0m\u001b[0;34m\u001b[0m\u001b[0;34m\u001b[0m\u001b[0m\n\u001b[1;32m      7\u001b[0m \u001b[0;34m\u001b[0m\u001b[0m\n",
      "\u001b[0;31mUnboundLocalError\u001b[0m: local variable 'x' referenced before assignment"
     ]
    }
   ],
   "source": [
    "#example\n",
    "\n",
    "x = \"global\"\n",
    "def char():\n",
    "    x = x * 2\n",
    "    print(x)\n",
    "    \n",
    "char()   "
   ]
  },
  {
   "cell_type": "code",
   "execution_count": null,
   "metadata": {},
   "outputs": [],
   "source": [
    "##The output shows an error because Python treats x \n",
    "# as a local variable and x is also not defined inside char()\n",
    " # To make this work , we use the global keyword."
   ]
  },
  {
   "cell_type": "code",
   "execution_count": null,
   "metadata": {},
   "outputs": [],
   "source": [
    "#Q6.What happens to variables in a local scope when the function \n",
    "#call returns?\n",
    "#Ans;\n",
    "#By default, the assignment statement creates variables in the local \n",
    "#scope. So the assignment inside the function does not modify the \n",
    "#global variable a – it creates a new local variable called a ,\n",
    "#and assigns the value 3 to that variable.\n"
   ]
  },
  {
   "cell_type": "code",
   "execution_count": 22,
   "metadata": {},
   "outputs": [
    {
     "name": "stdout",
     "output_type": "stream",
     "text": [
      "First sum is 12 and the second sum is 45\n"
     ]
    }
   ],
   "source": [
    "#Q7. What is the concept of a return value? \n",
    "#Ans Generally, a return value is used where the function is an intermediate step in a calculation of some kind. You want to get to a final result,\n",
    "#which involves some values that need to be calculated by a function\n",
    "#eg \n",
    "    \n",
    "def do_math(num1, num2):\n",
    "    return num1 + num2\n",
    "\n",
    "math1 = do_math(5,7)\n",
    "math2= do_math(11,34)\n",
    "\n",
    "print(\"First sum is\", math1, \"and the second sum is\", math2)\n",
    "\n",
    "# "
   ]
  },
  {
   "cell_type": "code",
   "execution_count": 23,
   "metadata": {},
   "outputs": [
    {
     "name": "stdout",
     "output_type": "stream",
     "text": [
      "Result of add function is 5\n",
      "\n",
      "Result of is_true function is True\n"
     ]
    }
   ],
   "source": [
    "#A return statement is used to end the execution of the function \n",
    "#call and “returns” the result (value of the expression following \n",
    "#the return keyword)to the caller. The statements after the return \n",
    "#statements are not executed. If the return statement is without any\n",
    "#expression, then the special value None is returned.\n",
    "\n",
    "#Note: Return statement can not be used outside the function.\n",
    "\n",
    "# Python program to \n",
    "# demonstrate return statement \n",
    "  \n",
    "def add(a, b):\n",
    "  \n",
    "    # returning sum of a and b\n",
    "    return a + b\n",
    "  \n",
    "def is_true(a):\n",
    "  \n",
    "    #returning boolean of a\n",
    "    return bool(a)\n",
    "  \n",
    "#calling function\n",
    "res = add(2, 3)\n",
    "print(\"Result of add function is {}\".format(res))\n",
    "  \n",
    "res = is_true(2<5)\n",
    "print(\"\\nResult of is_true function is {}\".format(res))\n"
   ]
  },
  {
   "cell_type": "code",
   "execution_count": null,
   "metadata": {},
   "outputs": [],
   "source": [
    "#Q8.If a function does not have a return statement, what is the \n",
    "#return value of a call to that function?\n",
    "#Ans If a function doesn't specify a return value, it returns None.\n",
    "\n",
    "#In an if/then conditional statement, None evaluates to False\n"
   ]
  },
  {
   "cell_type": "code",
   "execution_count": 27,
   "metadata": {},
   "outputs": [
    {
     "name": "stdout",
     "output_type": "stream",
     "text": [
      "5\n"
     ]
    }
   ],
   "source": [
    "#9.How do you make a function variable refer to the global variable?\n",
    "#Ans \n",
    "#If you want to refer to a global variable in a function, you can \n",
    "#use the global keyword to declare which variables are global.\n",
    "#Eg\n",
    "# sample.py\n",
    "myGlobal = 5\n",
    "\n",
    "def func1():\n",
    "    myGlobal = 42\n",
    "\n",
    "def func2():\n",
    "    print(myGlobal)\n",
    "\n",
    "func1()\n",
    "func2()"
   ]
  },
  {
   "cell_type": "code",
   "execution_count": 30,
   "metadata": {},
   "outputs": [
    {
     "name": "stdout",
     "output_type": "stream",
     "text": [
      "42\n"
     ]
    }
   ],
   "source": [
    "#You might expecting this to print 42, but instead it prints 5. As has already been mentioned, if you add a 'global' \n",
    "#declaration to func1(), then func2() will print 42.\n",
    "def func1():\n",
    "    global myGlobal\n",
    "    myGlobal = 42\n",
    "    \n",
    "def func2():\n",
    "    print(myGlobal)\n",
    "\n",
    "func1()\n",
    "func2()"
   ]
  },
  {
   "cell_type": "code",
   "execution_count": 31,
   "metadata": {},
   "outputs": [
    {
     "name": "stdout",
     "output_type": "stream",
     "text": [
      "None\n"
     ]
    }
   ],
   "source": [
    "#Q10. What is the data type of None?\n",
    "#Ans he None keyword is used to define a null value, or no value at all.\n",
    "\n",
    "#None is not the same as 0, False, or an empty string. None is a \n",
    "#data type of its own (NoneType) and only None can be None.\n",
    "\n",
    "x = None\n",
    "\n",
    "print(x)\n"
   ]
  },
  {
   "cell_type": "code",
   "execution_count": 32,
   "metadata": {},
   "outputs": [
    {
     "name": "stdout",
     "output_type": "stream",
     "text": [
      "Object `do` not found.\n"
     ]
    }
   ],
   "source": [
    "#Q11. What does the sentence \n",
    "import areallyourpetsnamederic do?\n"
   ]
  },
  {
   "cell_type": "code",
   "execution_count": null,
   "metadata": {},
   "outputs": [],
   "source": [
    "#Q12.If you had a bacon() feature in a spam module, what would you \n",
    "#call it after importing spam?\n",
    "##Ans return bacon()"
   ]
  },
  {
   "cell_type": "code",
   "execution_count": 33,
   "metadata": {},
   "outputs": [
    {
     "name": "stdout",
     "output_type": "stream",
     "text": [
      "Please enter a number: 7\n",
      "Cleanup can go here\n"
     ]
    }
   ],
   "source": [
    "#Q13. What can you do to save a programme from crashing if it \n",
    "#encounters an error?\n",
    "#Ans we can manage the programme from crashing by using \n",
    "#try: except: block:\n",
    "\n",
    "#eg\n",
    "try:\n",
    "    x = int(input(\"Please enter a number: \"))\n",
    "    y = 100 / x\n",
    "except ValueError:\n",
    "    print(\"Error :there was an error\")\n",
    "except ZeroDivisionError:\n",
    "    print(\"Error: 0 is an invalid number\")\n",
    "except Exception:\n",
    "    print(\"Error: another error occurred\")\n",
    "finally:\n",
    "    print(\"Cleanup can go here\")\n",
    "        \n",
    "          \n",
    "    \n"
   ]
  },
  {
   "cell_type": "code",
   "execution_count": null,
   "metadata": {},
   "outputs": [],
   "source": [
    "#Q14. What is the purpose of the try clause? What is the purpose of \n",
    "#the except clause?\n",
    "#Ans The idea of the try-except clause is to handle exceptions (errors\n",
    "#at runtime). The syntax of the try-except block is: The idea of the\n",
    "#try-except block is this: try: the code with the exception (s) to \n",
    "#catch.If an exception is raised, it jumps straight into the except \n",
    "#block.\n",
    "\n"
   ]
  }
 ],
 "metadata": {
  "kernelspec": {
   "display_name": "Python 3",
   "language": "python",
   "name": "python3"
  },
  "language_info": {
   "codemirror_mode": {
    "name": "ipython",
    "version": 3
   },
   "file_extension": ".py",
   "mimetype": "text/x-python",
   "name": "python",
   "nbconvert_exporter": "python",
   "pygments_lexer": "ipython3",
   "version": "3.7.6"
  }
 },
 "nbformat": 4,
 "nbformat_minor": 4
}
