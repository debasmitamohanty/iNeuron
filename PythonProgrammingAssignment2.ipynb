{
 "cells": [
  {
   "cell_type": "code",
   "execution_count": null,
   "metadata": {},
   "outputs": [],
   "source": [
    "##Python Programming Assignment 2"
   ]
  },
  {
   "cell_type": "code",
   "execution_count": 34,
   "metadata": {},
   "outputs": [
    {
     "name": "stdout",
     "output_type": "stream",
     "text": [
      "Enter value in kilometers: 5\n",
      "5.00 kilometers is equal to 3.11 miles\n"
     ]
    }
   ],
   "source": [
    "#Q1. Write a Python program to convert kilometers to miles?\n",
    "# Taking kilometers input from the user\n",
    "kilometers = float(input(\"Enter value in kilometers: \"))\n",
    "\n",
    "# conversion factor\n",
    "conv_fac = 0.621371\n",
    "\n",
    "# calculate miles\n",
    "miles = kilometers * conv_fac\n",
    "print('%0.2f kilometers is equal to %0.2f miles' %(kilometers,miles))"
   ]
  },
  {
   "cell_type": "code",
   "execution_count": 36,
   "metadata": {},
   "outputs": [
    {
     "name": "stdout",
     "output_type": "stream",
     "text": [
      "Enter value in Celcius: 32\n",
      "32.00 celsius is equal to 1081.60 farhenheit\n"
     ]
    }
   ],
   "source": [
    "#Q2 2. Write a Python program to convert Celsius to Farhenheit?\n",
    "celsius = float(input(\"Enter value in Celcius: \"))\n",
    "\n",
    "#conversion factor\n",
    "conv_factor = 33.8 \n",
    "\n",
    "#calculate farhenheit\n",
    "farhenheit = celsius * conv_factor\n",
    "print('%0.2f celsius is equal to %0.2f farhenheit' %(celsius,farhenheit))\n"
   ]
  },
  {
   "cell_type": "code",
   "execution_count": 38,
   "metadata": {},
   "outputs": [
    {
     "name": "stdout",
     "output_type": "stream",
     "text": [
      "Enter year: 2014\n",
      "Enter month: 11\n",
      "   November 2014\n",
      "Mo Tu We Th Fr Sa Su\n",
      "                1  2\n",
      " 3  4  5  6  7  8  9\n",
      "10 11 12 13 14 15 16\n",
      "17 18 19 20 21 22 23\n",
      "24 25 26 27 28 29 30\n",
      "\n"
     ]
    }
   ],
   "source": [
    "#Q3 Write a Python program to display calendar?\n",
    "#Ans # Program to display calendar of the given month and year\n",
    "\n",
    "# importing calendar module\n",
    "import calendar\n",
    "\n",
    "yy = 2014  # year\n",
    "mm = 11    # month\n",
    "\n",
    "# To take month and year input from the user\n",
    "yy = int(input(\"Enter year: \"))\n",
    "mm = int(input(\"Enter month: \"))\n",
    "\n",
    "# display the calendar\n",
    "print(calendar.month(yy, mm))"
   ]
  },
  {
   "cell_type": "code",
   "execution_count": 39,
   "metadata": {},
   "outputs": [
    {
     "name": "stdout",
     "output_type": "stream",
     "text": [
      "Enter the value of a : 4\n",
      "Enter the value of b : 6\n",
      "Enter the value of c : 8\n",
      "The value of x are (-12+19.183326093250876j) and (-12+19.183326093250876j)\n"
     ]
    }
   ],
   "source": [
    "#Q4 Write a Python program to solve quadratic equation?\n",
    "#Ans \n",
    "import cmath\n",
    "import math\n",
    "\n",
    "a = float(input(\"Enter the value of a : \"))\n",
    "b = float(input(\"Enter the value of b : \"))\n",
    "c = float(input(\"Enter the value of c : \"))\n",
    "\n",
    "d = b**2 - 4*a*c\n",
    "\n",
    "\n",
    "if d < 0:\n",
    "    sol_1 = (-b + cmath.sqrt(d))/2*a\n",
    "    sol_2 = (-b + cmath.sqrt(d))/2*a\n",
    "    \n",
    "else:\n",
    "    sol_1 = (-b + cmath.sqrt(d))/2*a\n",
    "    sol_2 = (-b + cmath.sqrt(d))/2*a\n",
    "    \n",
    "print(\"The value of x are {} and {}\".format(sol_1,sol_2))    "
   ]
  },
  {
   "cell_type": "code",
   "execution_count": 1,
   "metadata": {},
   "outputs": [
    {
     "name": "stdout",
     "output_type": "stream",
     "text": [
      "Enter value of first variable: 5\n",
      "Enter value of second variable: 2\n",
      "After swapping: \n",
      "Value of First Varibale x is: 2\n",
      "Value of second variable y is: 5\n"
     ]
    }
   ],
   "source": [
    "#Write a Python program to swap two variables without temp variable?\n",
    "\n",
    "#Ans\n",
    "x=int(input(\"Enter value of first variable: \"))\n",
    "y=int(input(\"Enter value of second variable: \"))\n",
    "x=x+y\n",
    "y=x-y\n",
    "x=x-y\n",
    "print(\"After swapping: \")\n",
    "print(\"Value of First Varibale x is:\",x)\n",
    "print(\"Value of second variable y is:\",y)"
   ]
  },
  {
   "cell_type": "code",
   "execution_count": null,
   "metadata": {},
   "outputs": [],
   "source": []
  }
 ],
 "metadata": {
  "kernelspec": {
   "display_name": "Python 3",
   "language": "python",
   "name": "python3"
  },
  "language_info": {
   "codemirror_mode": {
    "name": "ipython",
    "version": 3
   },
   "file_extension": ".py",
   "mimetype": "text/x-python",
   "name": "python",
   "nbconvert_exporter": "python",
   "pygments_lexer": "ipython3",
   "version": "3.7.6"
  }
 },
 "nbformat": 4,
 "nbformat_minor": 4
}
