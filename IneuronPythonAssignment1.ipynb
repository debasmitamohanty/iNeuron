{
 "cells": [
  {
   "cell_type": "code",
   "execution_count": null,
   "metadata": {},
   "outputs": [],
   "source": [
    "####Ineuron Assisgnment 1- Python basics"
   ]
  },
  {
   "cell_type": "code",
   "execution_count": null,
   "metadata": {},
   "outputs": [],
   "source": [
    "##Q1-In the below elements which of them are values or an expressions?\n",
    "##e.g; values can be integer or string and expression\n",
    "\n",
    "##*- Exponent -Mathematical Operator\n",
    "\n",
    "## 'hello'- string\n",
    "\n",
    "## -87.8 - integer\n",
    "\n",
    "## - Subtraction - mathematical operator\n",
    "\n",
    "## / -Division- mathematical operator\n",
    " \n",
    "    \n",
    "## + - Addition- mathematical operator\n",
    "\n",
    "## 6 - Positive integer\n",
    " \n"
   ]
  },
  {
   "cell_type": "code",
   "execution_count": null,
   "metadata": {},
   "outputs": [],
   "source": [
    "#Q2 What is the difference between string and variable ?\n",
    "#Answer---A string is a literal text string, i.e. 'Hello'. A variable is something that stores data (per se) - \n",
    "#it can store a string, int, float, class, etc."
   ]
  },
  {
   "cell_type": "code",
   "execution_count": 1,
   "metadata": {},
   "outputs": [
    {
     "name": "stdout",
     "output_type": "stream",
     "text": [
      "Type of a:  <class 'int'>\n",
      "\n",
      "Type of b:  <class 'float'>\n",
      "\n",
      "Type of c:  <class 'complex'>\n"
     ]
    }
   ],
   "source": [
    "###Q3 Describe three different data types ?\n",
    "\n",
    "##Answer -- Data Type -\n",
    " ##1.Numeric- Integers, float,complex numbers are numeric data types\n",
    "\n",
    "##Integers represent negative and positive integers without fractional parts whereas floating point numbers represents negative and positive numbers with fractional parts.\n",
    "\n",
    "\n",
    "### Float-The Python float () method converts a number \n",
    "#stored in a string or integer into a floating point number, \n",
    "#or a number with a decimal point. Python floats are useful for any \n",
    "#function that requires precision, like scientific notation.\n",
    "\n",
    "###Complex Numbers – Complex number is represented by complex class. It\n",
    "###is specified as (real part) + (imaginary part)j. For example – 2+3j\n",
    "##See below example.\n",
    "\n",
    "a = 5\n",
    "print(\"Type of a: \", type(a))\n",
    "\n",
    "b = 5.0\n",
    "print(\"\\nType of b: \", type(b)) \n",
    "  \n",
    "c = 2 + 4j\n",
    "print(\"\\nType of c: \", type(c)) \n"
   ]
  },
  {
   "cell_type": "code",
   "execution_count": 3,
   "metadata": {},
   "outputs": [
    {
     "name": "stdout",
     "output_type": "stream",
     "text": [
      "\n",
      "String with the use of Double Quotes: \n",
      "I'm  Debasmita\n",
      "<class 'str'>\n"
     ]
    }
   ],
   "source": [
    "## Data Type -Sequence :\n",
    "\n",
    "#In Python, sequence is the ordered collection of similar or \n",
    "#different data types. Sequences allows to store multiple values \n",
    "#in an organized and efficient fashion. There are several sequence \n",
    "#types in Python –\n",
    "\n",
    "#String\n",
    "#List\n",
    "#Tuple\n",
    "\n",
    "# A string is a collection of one or more characters put in a single \n",
    "#quote, double-quote or triple quote. In python there is no character\n",
    "#data type, a character is a string of length one. It is represented \n",
    "#by str class.\n",
    "\n",
    "#For Example\n",
    "\n",
    "# Creating a String  \n",
    "# with double Quotes  \n",
    "String1 = \"I'm  Debasmita\"\n",
    "print(\"\\nString with the use of Double Quotes: \")  \n",
    "print(String1)  \n",
    "print(type(String1)) "
   ]
  },
  {
   "cell_type": "code",
   "execution_count": 6,
   "metadata": {},
   "outputs": [
    {
     "name": "stdout",
     "output_type": "stream",
     "text": [
      "['Apples', 'Pear', 'Bananas']\n"
     ]
    }
   ],
   "source": [
    "### 2) List\n",
    "#Lists are just like the arrays, declared in other languages which is a ordered collection of data. It is very flexible as the items in a list do not need to be of the same type.\n",
    " \n",
    "\n",
    "#Creating List\n",
    "#Lists in Python can be created by just placing the \n",
    "#sequence inside the square brackets[].\n",
    "\n",
    "# Python program to demonstrate   \n",
    "# Creation of List   \n",
    "    \n",
    "# Creating a List  \n",
    "##List = []  \n",
    "#print(\"Intial blank List: \")  \n",
    "#print(List)  \n",
    "\n",
    "# Creating a List with  \n",
    "# the use of multiple values  \n",
    "List = [\"Apples\", \"Pear\", \"Bananas\"]  \n",
    "print (List)   \n",
    "    \n",
    "    "
   ]
  },
  {
   "cell_type": "code",
   "execution_count": 8,
   "metadata": {},
   "outputs": [
    {
     "name": "stdout",
     "output_type": "stream",
     "text": [
      "1\n"
     ]
    }
   ],
   "source": [
    "##3.Tuple###\n",
    "\n",
    "#### Tuple\n",
    "###Just like list, tuple is also an ordered collection of Python \n",
    "#objects. The only difference between type and list is that tuples \n",
    "#are immutable i.e. tuples cannot be modified after it is created.\n",
    "#It is represented by tuple class.\n",
    " \n",
    "tuple1 = tuple([1, 2, 3, 4, 5]) \n",
    "print(tuple1[0])"
   ]
  },
  {
   "cell_type": "code",
   "execution_count": 9,
   "metadata": {},
   "outputs": [
    {
     "name": "stdout",
     "output_type": "stream",
     "text": [
      "<class 'bool'>\n",
      "<class 'bool'>\n"
     ]
    },
    {
     "ename": "NameError",
     "evalue": "name 'true' is not defined",
     "output_type": "error",
     "traceback": [
      "\u001b[0;31m---------------------------------------------------------------------------\u001b[0m",
      "\u001b[0;31mNameError\u001b[0m                                 Traceback (most recent call last)",
      "\u001b[0;32m<ipython-input-9-7672ccef9b5e>\u001b[0m in \u001b[0;36m<module>\u001b[0;34m\u001b[0m\n\u001b[1;32m      7\u001b[0m \u001b[0mprint\u001b[0m\u001b[0;34m(\u001b[0m\u001b[0mtype\u001b[0m\u001b[0;34m(\u001b[0m\u001b[0;32mFalse\u001b[0m\u001b[0;34m)\u001b[0m\u001b[0;34m)\u001b[0m\u001b[0;34m\u001b[0m\u001b[0;34m\u001b[0m\u001b[0m\n\u001b[1;32m      8\u001b[0m \u001b[0;34m\u001b[0m\u001b[0m\n\u001b[0;32m----> 9\u001b[0;31m \u001b[0mprint\u001b[0m\u001b[0;34m(\u001b[0m\u001b[0mtype\u001b[0m\u001b[0;34m(\u001b[0m\u001b[0mtrue\u001b[0m\u001b[0;34m)\u001b[0m\u001b[0;34m)\u001b[0m\u001b[0;34m\u001b[0m\u001b[0;34m\u001b[0m\u001b[0m\n\u001b[0m",
      "\u001b[0;31mNameError\u001b[0m: name 'true' is not defined"
     ]
    }
   ],
   "source": [
    "####.Data type- Boolean:\n",
    "#Data type with one of the two built-in values, True or False.\n",
    "#Boolean objects that are equal to True are  (true), and those \n",
    "#equal to False are falsy (false).\n",
    "\n",
    "print(type(True)) \n",
    "print(type(False)) \n",
    "  \n",
    "print(type(true)) "
   ]
  },
  {
   "cell_type": "code",
   "execution_count": null,
   "metadata": {},
   "outputs": [],
   "source": [
    "###Q4: What is an expression made up of? What do all expression do?\n",
    "####An expression is a construct made up of variables, operators, and \n",
    "#method invocations, which are constructed according to the syntax of the language, \n",
    "#that evaluates to a single value.\n"
   ]
  },
  {
   "cell_type": "code",
   "execution_count": 18,
   "metadata": {},
   "outputs": [
    {
     "data": {
      "text/plain": [
       "10"
      ]
     },
     "execution_count": 18,
     "metadata": {},
     "output_type": "execute_result"
    }
   ],
   "source": [
    "#Q5:This assignment ststements , like spam=10.What is the difference \n",
    "##between an expression and statement?\n",
    "##Ans-An expression evaluates to a single value. A statement does not.\n",
    "##\n",
    "spam = 10\n",
    "spam\n",
    "#Expression: Something which evaluates to a value.\n",
    "# or something that returns a value.\n",
    "#Statement: A line of code which does something. \n",
    " \n",
    "#Examples of Statements    \n",
    "#for\n",
    "#goto\n",
    "#return\n",
    "#if\n",
    "\n",
    "#(above it states all of them imply the advance of the line (statement) of \n",
    "#execution to another line)\n",
    "\n",
    "#Example of expressions:\n",
    "#2+2\n",
    "\n",
    "##(it doesn't imply the idea of execution, but of the evaluation)"
   ]
  },
  {
   "cell_type": "code",
   "execution_count": 19,
   "metadata": {},
   "outputs": [
    {
     "data": {
      "text/plain": [
       "23"
      ]
     },
     "execution_count": 19,
     "metadata": {},
     "output_type": "execute_result"
    }
   ],
   "source": [
    "##Q6 After running the following code,\n",
    "##what does the variable bacon contain?\n",
    "bacon=22\n",
    "bacon+1\n"
   ]
  },
  {
   "cell_type": "code",
   "execution_count": 20,
   "metadata": {},
   "outputs": [
    {
     "data": {
      "text/plain": [
       "'spamspamspam'"
      ]
     },
     "execution_count": 20,
     "metadata": {},
     "output_type": "execute_result"
    }
   ],
   "source": [
    "##Q7What should the values of the following two terms be?\n",
    "'spam'+'spamspam'\n",
    "'spam'* 3"
   ]
  },
  {
   "cell_type": "code",
   "execution_count": null,
   "metadata": {},
   "outputs": [],
   "source": [
    "##Q8 ##Why is eggs a valid name while 100 is invalid?\n",
    "##We can name a variable anything as long as it obeys the following three rules:\n",
    "\n",
    "#1.It can be only one word.\n",
    "\n",
    "#2.It can use only letters, numbers, and the underscore (_) character.\n",
    "\n",
    "#3.It can’t begin with a number.\n",
    "\n",
    "#Eggs is vaid name while 100 is a number so it is invalid."
   ]
  },
  {
   "cell_type": "code",
   "execution_count": 21,
   "metadata": {},
   "outputs": [],
   "source": [
    "#Q(9)##\n",
    "\n",
    "#What three functions can be used to to get the integer , floating-point\n",
    "#number , or string version of a value?\n",
    "\n",
    "#Ans-\n",
    "\n",
    "#The str(), int(), and float() functions will evaluate to the string, \n",
    "#integer, and floating-point forms of the value you pass, respectively. Try converting some values\n",
    "#in the interactive shell with these functions and watch what happens.\n",
    "    "
   ]
  },
  {
   "cell_type": "code",
   "execution_count": 22,
   "metadata": {},
   "outputs": [
    {
     "ename": "IndentationError",
     "evalue": "unexpected indent (<ipython-input-22-4a02e4ef5344>, line 2)",
     "output_type": "error",
     "traceback": [
      "\u001b[0;36m  File \u001b[0;32m\"<ipython-input-22-4a02e4ef5344>\"\u001b[0;36m, line \u001b[0;32m2\u001b[0m\n\u001b[0;31m    ' I have eaten' + 99 + 'burritos'\u001b[0m\n\u001b[0m    ^\u001b[0m\n\u001b[0;31mIndentationError\u001b[0m\u001b[0;31m:\u001b[0m unexpected indent\n"
     ]
    }
   ],
   "source": [
    "###Q10.Why does this expression cause an error? How can you fix it?\n",
    " ' I have eaten' + 99 + 'burritos'"
   ]
  },
  {
   "cell_type": "code",
   "execution_count": 26,
   "metadata": {},
   "outputs": [
    {
     "data": {
      "text/plain": [
       "'I have eaten 99 burritos'"
      ]
     },
     "execution_count": 26,
     "metadata": {},
     "output_type": "execute_result"
    }
   ],
   "source": [
    "'I have eaten' + (\" 99 \") + 'burritos'"
   ]
  },
  {
   "cell_type": "code",
   "execution_count": null,
   "metadata": {},
   "outputs": [],
   "source": [
    "##Answer:You cannot concatenate integers and strings.\n",
    "#The easiest way to fix would be to wrap 99 in the function str(),\n",
    "#so that the line is expressed solely as a string.\n",
    "\n"
   ]
  }
 ],
 "metadata": {
  "kernelspec": {
   "display_name": "Python 3",
   "language": "python",
   "name": "python3"
  },
  "language_info": {
   "codemirror_mode": {
    "name": "ipython",
    "version": 3
   },
   "file_extension": ".py",
   "mimetype": "text/x-python",
   "name": "python",
   "nbconvert_exporter": "python",
   "pygments_lexer": "ipython3",
   "version": "3.7.6"
  }
 },
 "nbformat": 4,
 "nbformat_minor": 4
}
