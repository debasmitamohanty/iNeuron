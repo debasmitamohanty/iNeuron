{
 "cells": [
  {
   "cell_type": "code",
   "execution_count": null,
   "metadata": {},
   "outputs": [],
   "source": [
    "###iNeuronPythonAssignment4#####"
   ]
  },
  {
   "cell_type": "code",
   "execution_count": null,
   "metadata": {},
   "outputs": [],
   "source": [
    "#Q1 What exactly is []?\n",
    "#Ans In python, an empty list is defined as the list with no \n",
    "#elements or items on the list. To define an empty list in Python,\n",
    "#there are two ways to do this, and they are done either by \n",
    "#using square bracket [] or by using a list constructor such as \n",
    "#list"
   ]
  },
  {
   "cell_type": "code",
   "execution_count": 1,
   "metadata": {},
   "outputs": [
    {
     "name": "stdout",
     "output_type": "stream",
     "text": [
      "[2, 4, 5, 'hello', 6, 8, 10]\n"
     ]
    }
   ],
   "source": [
    "#Q2 In a list of values stored in a variable called spam, how would \n",
    "#you assign the value 'hello' as the third value?(Assume[2,4,6,8,10]\n",
    "#are in spam.)Let's pretend the spam includes the list ['a', 'b', 'c', 'd'] for the next three queries\n",
    "spam= [2,4,5,6,8,10]\n",
    "spam.insert(3,'hello') \n",
    "print(spam)\n",
    "    \n"
   ]
  },
  {
   "cell_type": "code",
   "execution_count": 2,
   "metadata": {},
   "outputs": [
    {
     "data": {
      "text/plain": [
       "'d'"
      ]
     },
     "execution_count": 2,
     "metadata": {},
     "output_type": "execute_result"
    }
   ],
   "source": [
    "#Let's pretend the spam includes the list ['a', 'b', 'c', 'd'] for the next three queries\n",
    "spam = ['a', 'b', 'c', 'd'] \n",
    "#Q33. What is the value of spam[int(int('3' * 2) / 11)]?\n",
    "spam[int(int('3'* 2)/11)]"
   ]
  },
  {
   "cell_type": "code",
   "execution_count": 3,
   "metadata": {},
   "outputs": [
    {
     "data": {
      "text/plain": [
       "'d'"
      ]
     },
     "execution_count": 3,
     "metadata": {},
     "output_type": "execute_result"
    }
   ],
   "source": [
    "#Q4. What is the value of spam[-1]?\n",
    "spam[-1]"
   ]
  },
  {
   "cell_type": "code",
   "execution_count": 4,
   "metadata": {},
   "outputs": [
    {
     "data": {
      "text/plain": [
       "['a', 'b']"
      ]
     },
     "execution_count": 4,
     "metadata": {},
     "output_type": "execute_result"
    }
   ],
   "source": [
    "#Q5 What is the value of spam[:2]?\n",
    "spam[:2]"
   ]
  },
  {
   "cell_type": "code",
   "execution_count": 5,
   "metadata": {},
   "outputs": [
    {
     "data": {
      "text/plain": [
       "1"
      ]
     },
     "execution_count": 5,
     "metadata": {},
     "output_type": "execute_result"
    }
   ],
   "source": [
    "##Let's pretend bacon has the list [3.14, 'cat,' 11, 'cat,' True] for the next three questions.\n",
    "bacon=[3.14, 'cat',11 , 'cat', True]\n",
    "#Q6. What is the value of bacon.index('cat')?\n",
    "bacon.index('cat')"
   ]
  },
  {
   "cell_type": "code",
   "execution_count": 6,
   "metadata": {},
   "outputs": [
    {
     "name": "stdout",
     "output_type": "stream",
     "text": [
      "[3.14, 'cat', 11, 'cat', True, 99]\n"
     ]
    }
   ],
   "source": [
    "#Q6.7. How does bacon.append(99) change the look of the list value in bacon?\n",
    "bacon.append(99)\n",
    "print (bacon)"
   ]
  },
  {
   "cell_type": "code",
   "execution_count": 7,
   "metadata": {},
   "outputs": [
    {
     "name": "stdout",
     "output_type": "stream",
     "text": [
      "[3.14, 11, 'cat', True, 99]\n"
     ]
    }
   ],
   "source": [
    "#Q8. How does bacon.remove('cat') change the look of the list in bacon?\n",
    "bacon.remove('cat') \n",
    "print (bacon)"
   ]
  },
  {
   "cell_type": "code",
   "execution_count": null,
   "metadata": {},
   "outputs": [],
   "source": [
    "#Q9. What are the list concatenation and list replication operators?\n",
    "#AnsThe operator for list concatenation is +, while the operator for replication is *. \n",
    "#(This is the same as for strings.)"
   ]
  },
  {
   "cell_type": "code",
   "execution_count": null,
   "metadata": {},
   "outputs": [],
   "source": [
    "#Q10. What is difference between the list methods append() and insert()?\n",
    "#Ans The only difference between append() and insert() is that insert function allows us to add a specific \n",
    "#element at a specified index of the list unlike append() where we can add the element only at end of the list."
   ]
  },
  {
   "cell_type": "code",
   "execution_count": null,
   "metadata": {},
   "outputs": [],
   "source": [
    "#Q11. What are the two methods for removing items from a list?\n",
    "#Ans Using the remove () method\n",
    "#Using the del operator\n"
   ]
  },
  {
   "cell_type": "code",
   "execution_count": 8,
   "metadata": {},
   "outputs": [
    {
     "name": "stdout",
     "output_type": "stream",
     "text": [
      "False\n",
      "True\n"
     ]
    }
   ],
   "source": [
    "#Q12. Describe how list values and string values are identical.\n",
    "#Ans\n",
    "#Approach #1 : Using loop\n",
    "#Start a for loop and check if first element is identical to all other elements in the list. This approach takes O(n) time complexity.\n",
    "\n",
    "# Python3 program to check if \n",
    "\n",
    "# all elements in a list are identical\n",
    "def check(list):\n",
    "    return all(i == list[0] for i in list)\n",
    "\n",
    " # Driver code\n",
    "print(check(['a', 'b', 'c']))\n",
    "print(check([1, 1, 1]))     "
   ]
  },
  {
   "cell_type": "code",
   "execution_count": 10,
   "metadata": {},
   "outputs": [
    {
     "name": "stdout",
     "output_type": "stream",
     "text": [
      "False\n",
      "True\n"
     ]
    }
   ],
   "source": [
    "#Approach #2 : Using Set\n",
    "#Converting given list into set removes all duplicate elements, If the resultant set size is less than \n",
    "#or equal to 1 then the list contains all identical elements.\n",
    "\n",
    "# Python3 program to check if \n",
    "# all elements in a list are identical\n",
    "def check(list):\n",
    "    return len(set(list)) <= 1\n",
    "     \n",
    "# Driver code\n",
    "print(check(['a', 'b', 'c']))\n",
    "print(check([1, 1, 1]))"
   ]
  },
  {
   "cell_type": "code",
   "execution_count": 11,
   "metadata": {},
   "outputs": [
    {
     "name": "stdout",
     "output_type": "stream",
     "text": [
      "False\n",
      "True\n"
     ]
    }
   ],
   "source": [
    "#Approach #3 : Using count()\n",
    "#By counting the number of times the first element occurs in the list, we can check if the count is equal to the size of list or not. In simple words, check if the first element is repeated throughout the list or not.\n",
    "\n",
    "# Python3 program to check if \n",
    "# all elements in a list are identical\n",
    "def check(list):\n",
    "    return list.count(list[0]) == len(list)\n",
    "     \n",
    "# Driver code\n",
    "print(check(['a', 'b', 'c']))\n",
    "print(check([1, 1, 1]))"
   ]
  },
  {
   "cell_type": "code",
   "execution_count": 12,
   "metadata": {},
   "outputs": [
    {
     "name": "stdout",
     "output_type": "stream",
     "text": [
      "False\n",
      "True\n"
     ]
    }
   ],
   "source": [
    "#Approach #4 : Alternative method\n",
    "#Another method is to take the first element and multiply it with the length of given list to form a new list, So that the new list contains identical elements to first elements of given list size, and then compare it with the given list.\n",
    "\n",
    "# Python3 program to check if \n",
    "# all elements in a list are identical\n",
    "def check(x):\n",
    "    return x and [x[0]]*len(x) == x\n",
    "     \n",
    "# Driver code\n",
    "print(check(['a', 'b', 'c']))\n",
    "print(check([1, 1, 1]))\n"
   ]
  },
  {
   "cell_type": "code",
   "execution_count": 13,
   "metadata": {},
   "outputs": [
    {
     "name": "stdout",
     "output_type": "stream",
     "text": [
      "[1.8, 'string', 34, 'a']\n"
     ]
    }
   ],
   "source": [
    "#Q13. What's the difference between tuples and lists?\n",
    "\n",
    "#Ans\n",
    "#List\n",
    "#It is often referred to as a sequence. It is considered to be one of the most frequently used data type,\n",
    "#as well as lauded for its versatility. A list can be created by placing all elements inside square brackets \n",
    "#([ ]) and separating the elements with commas. There can be any number of elements inside the list and they can \n",
    "#be of different types as well (such as integer, float, string, and so on). The most important\n",
    "#characteristic of list is that it is a mutable structure, i.e changes can be made by references the list. \n",
    "\n",
    "my_list = [1.8, 'string', 34, 'a']\n",
    "print(my_list)"
   ]
  },
  {
   "cell_type": "code",
   "execution_count": 14,
   "metadata": {},
   "outputs": [
    {
     "name": "stdout",
     "output_type": "stream",
     "text": [
      "The elements within a certain range are\n",
      "['string', 34, 'a']\n"
     ]
    }
   ],
   "source": [
    "#We can also access elements from one range to another. \n",
    "#This is known as list slicing. Let us see how that can be done \n",
    "my_list = [1.8, 'string', 34, 'a']\n",
    "print(\"The elements within a certain range are\")\n",
    "print(my_list[1:4])"
   ]
  },
  {
   "cell_type": "code",
   "execution_count": 22,
   "metadata": {},
   "outputs": [],
   "source": [
    "#We can also change the values of a list by performing indexing and assigning a new value to that index. \n"
   ]
  },
  {
   "cell_type": "code",
   "execution_count": 33,
   "metadata": {},
   "outputs": [
    {
     "name": "stdout",
     "output_type": "stream",
     "text": [
      "hello\n"
     ]
    }
   ],
   "source": [
    "#Tuple\n",
    "#Now let us understand the working of a tuple structure. It is created using parenthesis, i.e. ().\n",
    "#The important characteristic of tuple is that it is immutable, i.e. the elements one assigned inside a tuple \n",
    "#can't be changed by accessing the tuple. There can be any number of elements inside the tuple and they can be \n",
    "#of different types as well (such as integer, float, string, and so on).\n",
    "\n",
    "# A tuple can be created without the use of parenthesis, but it is considered good practice to use parenthesis.\n",
    "\n",
    "#Let us see how a tuple with a single element can be created −\n",
    "\n",
    "#Example\n",
    "my_tuple = (\"hello\")\n",
    "#print (\"Creating a tuple with one element”)\n",
    "print(my_tuple)"
   ]
  },
  {
   "cell_type": "code",
   "execution_count": 34,
   "metadata": {},
   "outputs": [
    {
     "name": "stdout",
     "output_type": "stream",
     "text": [
      "140318009436752\n"
     ]
    }
   ],
   "source": [
    "#Q14. How do you type a tuple value that only contains the integer 42?\n",
    "#Ans \n",
    "g = (42,)\n",
    "print(id(g))"
   ]
  },
  {
   "cell_type": "code",
   "execution_count": 35,
   "metadata": {},
   "outputs": [
    {
     "name": "stdout",
     "output_type": "stream",
     "text": [
      "Given list A:  ['Mon', 2, 'Tue', 3]\n",
      "The tuple is :  ('Mon', 2, 'Tue', 3)\n"
     ]
    }
   ],
   "source": [
    "#Q15. How do you get a list value's tuple form? How do you get a tuple value's list form?\n",
    "#Ans\n",
    "#Sometimes during data analysis using Python, we may need to convert a given list into a tuple. \n",
    "#Because some downstream code may be expecting to handle tuple and the current list has the values for that tuple.\n",
    "#In this article we will see various ways to do that.\n",
    "\n",
    "#With tuple\n",
    "#This is a straight way of applying the tuple function directly on the list. The list elements get converted to a \n",
    "#tuple.\n",
    "\n",
    "#Example\n",
    " \n",
    "listA = [\"Mon\",2,\"Tue\",3]\n",
    "# Given list\n",
    "print(\"Given list A: \", listA)\n",
    "# Use zip\n",
    "res = tuple(listA)\n",
    "# Result\n",
    "print(\"The tuple is : \",res)\n"
   ]
  },
  {
   "cell_type": "code",
   "execution_count": 36,
   "metadata": {},
   "outputs": [
    {
     "name": "stdout",
     "output_type": "stream",
     "text": [
      "Given list A:  ['Mon', 2, 'Tue', 3]\n",
      "The tuple is :  ('Mon', 2, 'Tue', 3)\n"
     ]
    }
   ],
   "source": [
    "#With *\n",
    "#We can apply the * operator we can expand the given list and put the result in a parentheses.\n",
    "\n",
    "#Example\n",
    "listA = [\"Mon\",2,\"Tue\",3]\n",
    "# Given list\n",
    "print(\"Given list A: \", listA)\n",
    "# Use zip\n",
    "res = (* listA,)\n",
    "# Result\n",
    "print(\"The tuple is : \",res)"
   ]
  },
  {
   "cell_type": "code",
   "execution_count": 37,
   "metadata": {},
   "outputs": [
    {
     "name": "stdout",
     "output_type": "stream",
     "text": [
      "<class 'list'>\n",
      "[True, 28, 'Tiger']\n"
     ]
    }
   ],
   "source": [
    "##Convert tuple into list\n",
    "#initialize tuple\n",
    "aTuple = (True, 28, 'Tiger')\n",
    " \n",
    "#tuple to list\n",
    "aList = list(aTuple)\n",
    " \n",
    "#print list\n",
    "print(type(aList))\n",
    "print(aList)"
   ]
  },
  {
   "cell_type": "code",
   "execution_count": null,
   "metadata": {},
   "outputs": [],
   "source": [
    "#Q16. Variables that \"contain\" list values are not necessarily lists themselves. Instead, what do they contain?\n",
    "#Ans\n",
    "#Python variables are names for values. They don't really \"contain\" the values.\n",
    "\n"
   ]
  },
  {
   "cell_type": "code",
   "execution_count": null,
   "metadata": {},
   "outputs": [],
   "source": [
    "#Q17. How do you distinguish between copy.copy() and copy.deepcopy()?\n",
    "#Ans copy performs shallow copy while deepcopy performs deep copy. copy and deepcopy behave exactly the same if\n",
    "#the object we are copying is not a compound object i.e. the object does not contain other objects.\n",
    "#One simple of compound object is list."
   ]
  }
 ],
 "metadata": {
  "kernelspec": {
   "display_name": "Python 3",
   "language": "python",
   "name": "python3"
  },
  "language_info": {
   "codemirror_mode": {
    "name": "ipython",
    "version": 3
   },
   "file_extension": ".py",
   "mimetype": "text/x-python",
   "name": "python",
   "nbconvert_exporter": "python",
   "pygments_lexer": "ipython3",
   "version": "3.7.6"
  }
 },
 "nbformat": 4,
 "nbformat_minor": 4
}
